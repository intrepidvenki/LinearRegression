{
 "cells": [
  {
   "cell_type": "code",
   "execution_count": 2,
   "id": "67b12b69",
   "metadata": {},
   "outputs": [],
   "source": [
    "import pandas as pd\n",
    "import numpy as np\n",
    "import matplotlib.pyplot as plt\n",
    "import matplotlib as mpl\n",
    "%matplotlib inline\n",
    "mpl.style.use('ggplot')"
   ]
  },
  {
   "cell_type": "code",
   "execution_count": 3,
   "id": "75049f56",
   "metadata": {},
   "outputs": [],
   "source": [
    "brain = pd.read_csv('brain.csv')"
   ]
  },
  {
   "cell_type": "code",
   "execution_count": 4,
   "id": "6a395272",
   "metadata": {},
   "outputs": [
    {
     "data": {
      "text/html": [
       "<div>\n",
       "<style scoped>\n",
       "    .dataframe tbody tr th:only-of-type {\n",
       "        vertical-align: middle;\n",
       "    }\n",
       "\n",
       "    .dataframe tbody tr th {\n",
       "        vertical-align: top;\n",
       "    }\n",
       "\n",
       "    .dataframe thead th {\n",
       "        text-align: right;\n",
       "    }\n",
       "</style>\n",
       "<table border=\"1\" class=\"dataframe\">\n",
       "  <thead>\n",
       "    <tr style=\"text-align: right;\">\n",
       "      <th></th>\n",
       "      <th>Gender</th>\n",
       "      <th>Age Range</th>\n",
       "      <th>Head Size(cm^3)</th>\n",
       "      <th>Brain Weight(grams)</th>\n",
       "    </tr>\n",
       "  </thead>\n",
       "  <tbody>\n",
       "    <tr>\n",
       "      <th>0</th>\n",
       "      <td>1</td>\n",
       "      <td>1</td>\n",
       "      <td>4512</td>\n",
       "      <td>1530</td>\n",
       "    </tr>\n",
       "    <tr>\n",
       "      <th>1</th>\n",
       "      <td>1</td>\n",
       "      <td>1</td>\n",
       "      <td>3738</td>\n",
       "      <td>1297</td>\n",
       "    </tr>\n",
       "    <tr>\n",
       "      <th>2</th>\n",
       "      <td>1</td>\n",
       "      <td>1</td>\n",
       "      <td>4261</td>\n",
       "      <td>1335</td>\n",
       "    </tr>\n",
       "    <tr>\n",
       "      <th>3</th>\n",
       "      <td>1</td>\n",
       "      <td>1</td>\n",
       "      <td>3777</td>\n",
       "      <td>1282</td>\n",
       "    </tr>\n",
       "    <tr>\n",
       "      <th>4</th>\n",
       "      <td>1</td>\n",
       "      <td>1</td>\n",
       "      <td>4177</td>\n",
       "      <td>1590</td>\n",
       "    </tr>\n",
       "  </tbody>\n",
       "</table>\n",
       "</div>"
      ],
      "text/plain": [
       "   Gender  Age Range  Head Size(cm^3)  Brain Weight(grams)\n",
       "0       1          1             4512                 1530\n",
       "1       1          1             3738                 1297\n",
       "2       1          1             4261                 1335\n",
       "3       1          1             3777                 1282\n",
       "4       1          1             4177                 1590"
      ]
     },
     "execution_count": 4,
     "metadata": {},
     "output_type": "execute_result"
    }
   ],
   "source": [
    "brain.head()"
   ]
  },
  {
   "cell_type": "code",
   "execution_count": 5,
   "id": "6e49ffea",
   "metadata": {},
   "outputs": [
    {
     "data": {
      "text/plain": [
       "(237, 4)"
      ]
     },
     "execution_count": 5,
     "metadata": {},
     "output_type": "execute_result"
    }
   ],
   "source": [
    "brain.shape"
   ]
  },
  {
   "cell_type": "code",
   "execution_count": 6,
   "id": "28dce14d",
   "metadata": {},
   "outputs": [
    {
     "name": "stdout",
     "output_type": "stream",
     "text": [
      "<class 'pandas.core.frame.DataFrame'>\n",
      "RangeIndex: 237 entries, 0 to 236\n",
      "Data columns (total 4 columns):\n",
      " #   Column               Non-Null Count  Dtype\n",
      "---  ------               --------------  -----\n",
      " 0   Gender               237 non-null    int64\n",
      " 1   Age Range            237 non-null    int64\n",
      " 2   Head Size(cm^3)      237 non-null    int64\n",
      " 3   Brain Weight(grams)  237 non-null    int64\n",
      "dtypes: int64(4)\n",
      "memory usage: 7.5 KB\n"
     ]
    }
   ],
   "source": [
    "brain.info()"
   ]
  },
  {
   "cell_type": "code",
   "execution_count": 7,
   "id": "8fe7c5fe",
   "metadata": {},
   "outputs": [],
   "source": [
    "backup = brain.copy()"
   ]
  },
  {
   "cell_type": "code",
   "execution_count": 8,
   "id": "cd83c93c",
   "metadata": {},
   "outputs": [
    {
     "data": {
      "text/plain": [
       "array([1, 2], dtype=int64)"
      ]
     },
     "execution_count": 8,
     "metadata": {},
     "output_type": "execute_result"
    }
   ],
   "source": [
    "brain['Gender'].unique()"
   ]
  },
  {
   "cell_type": "code",
   "execution_count": 9,
   "id": "807d71b0",
   "metadata": {},
   "outputs": [
    {
     "data": {
      "text/plain": [
       "array([1, 2], dtype=int64)"
      ]
     },
     "execution_count": 9,
     "metadata": {},
     "output_type": "execute_result"
    }
   ],
   "source": [
    "brain['Age Range'].unique()"
   ]
  },
  {
   "cell_type": "code",
   "execution_count": 10,
   "id": "6370a8e9",
   "metadata": {},
   "outputs": [
    {
     "data": {
      "text/plain": [
       "array([4512, 3738, 4261, 3777, 4177, 3585, 3785, 3559, 3613, 3982, 3443,\n",
       "       3993, 3640, 4208, 3832, 3876, 3497, 3466, 3095, 4424, 3878, 4046,\n",
       "       3804, 3710, 4747, 4423, 4036, 4022, 3454, 4175, 3787, 3796, 4103,\n",
       "       4161, 4158, 3814, 3527, 3748, 3334, 3492, 3962, 3505, 4315, 3863,\n",
       "       4034, 4308, 3165, 3641, 3644, 3891, 3793, 4270, 4063, 4012, 3458,\n",
       "       3890, 4166, 3935, 3669, 3866, 3393, 4442, 4253, 3727, 3329, 3415,\n",
       "       3372, 4430, 4381, 4008, 3858, 4121, 4057, 3824, 3394, 3558, 3362,\n",
       "       3930, 3835, 3830, 3856, 3249, 3577, 3933, 3850, 3309, 3406, 3506,\n",
       "       3907, 4160, 3318, 3662, 3899, 3700, 3779, 3473, 3490, 3654, 3478,\n",
       "       3495, 3834, 3661, 3618, 3648, 4032, 3399, 3916, 3695, 3524, 3571,\n",
       "       3594, 3383, 3499, 3589, 3900, 4114, 3937, 4200, 4488, 3614, 4051,\n",
       "       3782, 3391, 3124, 4053, 3582, 3666, 3532, 3667, 2857, 3436, 3791,\n",
       "       3302, 3104, 3171, 3572, 3530, 3175, 3438, 3903, 3401, 3267, 3451,\n",
       "       3090, 3413, 3323, 3680, 3439, 3853, 3156, 3279, 3707, 4006, 3269,\n",
       "       3071, 3548, 3292, 3082, 3248, 3358, 3803, 3566, 3145, 3503, 3724,\n",
       "       3615, 3203, 3609, 3561, 3979, 3533, 3689, 3158, 4005, 3181, 3479,\n",
       "       3642, 3632, 3069, 3703, 3354, 3000, 3687, 3556, 2773, 3058, 3344,\n",
       "       3493, 3297, 3360, 3228, 3277, 3851, 3067, 3692, 3402, 3995, 2720,\n",
       "       2937, 3580, 2939, 2989, 3586, 3246, 3170, 3268, 3389, 3381, 2864,\n",
       "       3740, 3647, 3716, 3284, 4204, 3735, 3218, 3685, 3704, 3214, 3233,\n",
       "       3352], dtype=int64)"
      ]
     },
     "execution_count": 10,
     "metadata": {},
     "output_type": "execute_result"
    }
   ],
   "source": [
    "brain['Head Size(cm^3)'].unique()"
   ]
  },
  {
   "cell_type": "code",
   "execution_count": 11,
   "id": "7a58f5e6",
   "metadata": {},
   "outputs": [
    {
     "data": {
      "text/plain": [
       "array([1530, 1297, 1335, 1282, 1590, 1300, 1400, 1255, 1355, 1375, 1340,\n",
       "       1380, 1522, 1208, 1405, 1358, 1292, 1357, 1287, 1275, 1270, 1635,\n",
       "       1505, 1490, 1485, 1310, 1420, 1318, 1432, 1364, 1207, 1350, 1236,\n",
       "       1250, 1320, 1525, 1570, 1422, 1506, 1215, 1311, 1224, 1390, 1225,\n",
       "       1560, 1330, 1222, 1415, 1175, 1470, 1135, 1154, 1510, 1468, 1240,\n",
       "       1195, 1188, 1252, 1315, 1245, 1430, 1279, 1309, 1412, 1120, 1220,\n",
       "       1280, 1440, 1370, 1192, 1230, 1346, 1290, 1165, 1132, 1242, 1218,\n",
       "       1588, 1260, 1425, 1226, 1360, 1620, 1295, 1362, 1173, 1256, 1180,\n",
       "       1306, 1125, 1312, 1450, 1027, 1235, 1080, 1127, 1200, 1334, 1140,\n",
       "       1243, 1168, 1322, 1249, 1321, 1373, 1170, 1265, 1302, 1241, 1078,\n",
       "       1520, 1460, 1075, 1190, 1374, 1202, 1316, 1210, 1324, 1100, 1160,\n",
       "       1205, 1163, 1022, 1237, 1204, 1090, 1076, 1095, 1105, 1150, 1305,\n",
       "       1296,  955, 1070, 1060, 1130, 1178, 1142, 1185, 1012, 1103, 1408,\n",
       "       1246, 1110, 1104], dtype=int64)"
      ]
     },
     "execution_count": 11,
     "metadata": {},
     "output_type": "execute_result"
    }
   ],
   "source": [
    "brain['Brain Weight(grams)'].unique()"
   ]
  },
  {
   "cell_type": "code",
   "execution_count": 12,
   "id": "d3953a0c",
   "metadata": {},
   "outputs": [],
   "source": [
    "import seaborn as sns"
   ]
  },
  {
   "cell_type": "code",
   "execution_count": 13,
   "id": "2c03177a",
   "metadata": {},
   "outputs": [
    {
     "data": {
      "text/plain": [
       "<seaborn.axisgrid.FacetGrid at 0x2888b62a5e0>"
      ]
     },
     "execution_count": 13,
     "metadata": {},
     "output_type": "execute_result"
    },
    {
     "data": {
      "image/png": "[encoded data removed]",
      "text/plain": [
       "<Figure size 756x504 with 1 Axes>"
      ]
     },
     "metadata": {},
     "output_type": "display_data"
    }
   ],
   "source": [
    "sns.relplot(x='Head Size(cm^3)',y='Brain Weight(grams)',data=brain,height=7,aspect=1.5)"
   ]
  },
  {
   "cell_type": "code",
   "execution_count": 14,
   "id": "3cf70a0f",
   "metadata": {},
   "outputs": [
    {
     "data": {
      "text/plain": [
       "<AxesSubplot: xlabel='Gender', ylabel='Brain Weight(grams)'>"
      ]
     },
     "execution_count": 14,
     "metadata": {},
     "output_type": "execute_result"
    },
    {
     "data": {
      "image/png": "[encoded data removed]",
      "text/plain": [
       "<Figure size 432x288 with 1 Axes>"
      ]
     },
     "metadata": {},
     "output_type": "display_data"
    }
   ],
   "source": [
    "sns.boxplot(x='Gender',y='Brain Weight(grams)',data=brain)"
   ]
  },
  {
   "cell_type": "code",
   "execution_count": 15,
   "id": "d2582a40",
   "metadata": {},
   "outputs": [
    {
     "data": {
      "text/plain": [
       "<AxesSubplot: xlabel='Age Range', ylabel='Brain Weight(grams)'>"
      ]
     },
     "execution_count": 15,
     "metadata": {},
     "output_type": "execute_result"
    },
    {
     "data": {
      "image/png": "[encoded data removed]",
      "text/plain": [
       "<Figure size 432x288 with 1 Axes>"
      ]
     },
     "metadata": {},
     "output_type": "display_data"
    }
   ],
   "source": [
    "sns.boxplot(x='Age Range',y='Brain Weight(grams)',data=brain)"
   ]
  },
  {
   "cell_type": "code",
   "execution_count": 16,
   "id": "b62712b5",
   "metadata": {},
   "outputs": [
    {
     "name": "stdout",
     "output_type": "stream",
     "text": [
      "<class 'pandas.core.frame.DataFrame'>\n",
      "RangeIndex: 237 entries, 0 to 236\n",
      "Data columns (total 4 columns):\n",
      " #   Column               Non-Null Count  Dtype\n",
      "---  ------               --------------  -----\n",
      " 0   Gender               237 non-null    int64\n",
      " 1   Age Range            237 non-null    int64\n",
      " 2   Head Size(cm^3)      237 non-null    int64\n",
      " 3   Brain Weight(grams)  237 non-null    int64\n",
      "dtypes: int64(4)\n",
      "memory usage: 7.5 KB\n"
     ]
    }
   ],
   "source": [
    "brain.info()"
   ]
  },
  {
   "cell_type": "code",
   "execution_count": 17,
   "id": "ca5426e1",
   "metadata": {},
   "outputs": [],
   "source": [
    "X=brain[['Gender','Age Range','Head Size(cm^3)']]\n",
    "y=brain['Brain Weight(grams)']"
   ]
  },
  {
   "cell_type": "code",
   "execution_count": 18,
   "id": "fa9944fc",
   "metadata": {},
   "outputs": [
    {
     "data": {
      "text/html": [
       "<div>\n",
       "<style scoped>\n",
       "    .dataframe tbody tr th:only-of-type {\n",
       "        vertical-align: middle;\n",
       "    }\n",
       "\n",
       "    .dataframe tbody tr th {\n",
       "        vertical-align: top;\n",
       "    }\n",
       "\n",
       "    .dataframe thead th {\n",
       "        text-align: right;\n",
       "    }\n",
       "</style>\n",
       "<table border=\"1\" class=\"dataframe\">\n",
       "  <thead>\n",
       "    <tr style=\"text-align: right;\">\n",
       "      <th></th>\n",
       "      <th>Gender</th>\n",
       "      <th>Age Range</th>\n",
       "      <th>Head Size(cm^3)</th>\n",
       "    </tr>\n",
       "  </thead>\n",
       "  <tbody>\n",
       "    <tr>\n",
       "      <th>0</th>\n",
       "      <td>1</td>\n",
       "      <td>1</td>\n",
       "      <td>4512</td>\n",
       "    </tr>\n",
       "    <tr>\n",
       "      <th>1</th>\n",
       "      <td>1</td>\n",
       "      <td>1</td>\n",
       "      <td>3738</td>\n",
       "    </tr>\n",
       "    <tr>\n",
       "      <th>2</th>\n",
       "      <td>1</td>\n",
       "      <td>1</td>\n",
       "      <td>4261</td>\n",
       "    </tr>\n",
       "    <tr>\n",
       "      <th>3</th>\n",
       "      <td>1</td>\n",
       "      <td>1</td>\n",
       "      <td>3777</td>\n",
       "    </tr>\n",
       "    <tr>\n",
       "      <th>4</th>\n",
       "      <td>1</td>\n",
       "      <td>1</td>\n",
       "      <td>4177</td>\n",
       "    </tr>\n",
       "    <tr>\n",
       "      <th>...</th>\n",
       "      <td>...</td>\n",
       "      <td>...</td>\n",
       "      <td>...</td>\n",
       "    </tr>\n",
       "    <tr>\n",
       "      <th>232</th>\n",
       "      <td>2</td>\n",
       "      <td>2</td>\n",
       "      <td>3214</td>\n",
       "    </tr>\n",
       "    <tr>\n",
       "      <th>233</th>\n",
       "      <td>2</td>\n",
       "      <td>2</td>\n",
       "      <td>3394</td>\n",
       "    </tr>\n",
       "    <tr>\n",
       "      <th>234</th>\n",
       "      <td>2</td>\n",
       "      <td>2</td>\n",
       "      <td>3233</td>\n",
       "    </tr>\n",
       "    <tr>\n",
       "      <th>235</th>\n",
       "      <td>2</td>\n",
       "      <td>2</td>\n",
       "      <td>3352</td>\n",
       "    </tr>\n",
       "    <tr>\n",
       "      <th>236</th>\n",
       "      <td>2</td>\n",
       "      <td>2</td>\n",
       "      <td>3391</td>\n",
       "    </tr>\n",
       "  </tbody>\n",
       "</table>\n",
       "<p>237 rows × 3 columns</p>\n",
       "</div>"
      ],
      "text/plain": [
       "     Gender  Age Range  Head Size(cm^3)\n",
       "0         1          1             4512\n",
       "1         1          1             3738\n",
       "2         1          1             4261\n",
       "3         1          1             3777\n",
       "4         1          1             4177\n",
       "..      ...        ...              ...\n",
       "232       2          2             3214\n",
       "233       2          2             3394\n",
       "234       2          2             3233\n",
       "235       2          2             3352\n",
       "236       2          2             3391\n",
       "\n",
       "[237 rows x 3 columns]"
      ]
     },
     "execution_count": 18,
     "metadata": {},
     "output_type": "execute_result"
    }
   ],
   "source": [
    "X"
   ]
  },
  {
   "cell_type": "code",
   "execution_count": 19,
   "id": "02765818",
   "metadata": {},
   "outputs": [
    {
     "data": {
      "text/plain": [
       "0      1530\n",
       "1      1297\n",
       "2      1335\n",
       "3      1282\n",
       "4      1590\n",
       "       ... \n",
       "232    1110\n",
       "233    1215\n",
       "234    1104\n",
       "235    1170\n",
       "236    1120\n",
       "Name: Brain Weight(grams), Length: 237, dtype: int64"
      ]
     },
     "execution_count": 19,
     "metadata": {},
     "output_type": "execute_result"
    }
   ],
   "source": [
    "y"
   ]
  },
  {
   "cell_type": "code",
   "execution_count": 20,
   "id": "d31b9ca7",
   "metadata": {},
   "outputs": [],
   "source": [
    "from sklearn.model_selection import train_test_split\n",
    "X_train,X_test,y_train,y_test=train_test_split(X,y,test_size=0.2)"
   ]
  },
  {
   "cell_type": "code",
   "execution_count": 21,
   "id": "e56bb845",
   "metadata": {},
   "outputs": [],
   "source": [
    "from sklearn.linear_model import LinearRegression"
   ]
  },
  {
   "cell_type": "code",
   "execution_count": 22,
   "id": "11a5f430",
   "metadata": {},
   "outputs": [],
   "source": [
    "from sklearn.preprocessing import OneHotEncoder\n",
    "from sklearn.compose import make_column_transformer\n",
    "from sklearn.pipeline import make_pipeline\n",
    "from sklearn.metrics import r2_score"
   ]
  },
  {
   "cell_type": "code",
   "execution_count": 23,
   "id": "7833866d",
   "metadata": {},
   "outputs": [
    {
     "data": {
      "text/plain": [
       "OneHotEncoder()"
      ]
     },
     "execution_count": 23,
     "metadata": {},
     "output_type": "execute_result"
    }
   ],
   "source": [
    "ohe=OneHotEncoder()\n",
    "ohe.fit(X[['Gender','Age Range','Head Size(cm^3)']])"
   ]
  },
  {
   "cell_type": "code",
   "execution_count": 24,
   "id": "1f2df06f",
   "metadata": {},
   "outputs": [],
   "source": [
    "column_trans=make_column_transformer((OneHotEncoder(categories=ohe.categories_),['Gender','Age Range','Head Size(cm^3)']),\n",
    "                                    remainder='passthrough')"
   ]
  },
  {
   "cell_type": "code",
   "execution_count": 25,
   "id": "a31d6103",
   "metadata": {},
   "outputs": [],
   "source": [
    "lr=LinearRegression()"
   ]
  },
  {
   "cell_type": "code",
   "execution_count": 26,
   "id": "854469c5",
   "metadata": {},
   "outputs": [],
   "source": [
    "pipe=make_pipeline(column_trans,lr)"
   ]
  },
  {
   "cell_type": "code",
   "execution_count": 27,
   "id": "9f13dd0c",
   "metadata": {},
   "outputs": [
    {
     "data": {
      "text/plain": [
       "Pipeline(steps=[('columntransformer',\n",
       "                 ColumnTransformer(remainder='passthrough',\n",
       "                                   transformers=[('onehotencoder',\n",
       "                                                  OneHotEncoder(categories=[array([1, 2], dtype=int64),\n",
       "                                                                            array([1, 2], dtype=int64),\n",
       "                                                                            array([2720, 2773, 2857, 2864, 2937, 2939, 2989, 3000, 3058, 3067, 3069,\n",
       "       3071, 3082, 3090, 3095, 3104, 3124, 3145, 3156, 3158, 3165, 3170,\n",
       "       3171, 3175, 3181, 3203, 3214, 3218, 3228, 3233, 3246, 32...\n",
       "       3876, 3878, 3890, 3891, 3899, 3900, 3903, 3907, 3916, 3930, 3933,\n",
       "       3935, 3937, 3962, 3979, 3982, 3993, 3995, 4005, 4006, 4008, 4012,\n",
       "       4022, 4032, 4034, 4036, 4046, 4051, 4053, 4057, 4063, 4103, 4114,\n",
       "       4121, 4158, 4160, 4161, 4166, 4175, 4177, 4200, 4204, 4208, 4253,\n",
       "       4261, 4270, 4308, 4315, 4381, 4423, 4424, 4430, 4442, 4488, 4512,\n",
       "       4747], dtype=int64)]),\n",
       "                                                  ['Gender', 'Age Range',\n",
       "                                                   'Head Size(cm^3)'])])),\n",
       "                ('linearregression', LinearRegression())])"
      ]
     },
     "execution_count": 27,
     "metadata": {},
     "output_type": "execute_result"
    }
   ],
   "source": [
    "pipe.fit(X_train,y_train)"
   ]
  },
  {
   "cell_type": "code",
   "execution_count": 28,
   "id": "94614f0c",
   "metadata": {},
   "outputs": [],
   "source": [
    "y_pred=pipe.predict(X_test)"
   ]
  },
  {
   "cell_type": "code",
   "execution_count": 29,
   "id": "c05facbf",
   "metadata": {},
   "outputs": [
    {
     "data": {
      "text/plain": [
       "-0.19742363304858257"
      ]
     },
     "execution_count": 29,
     "metadata": {},
     "output_type": "execute_result"
    }
   ],
   "source": [
    "r2_score(y_test,y_pred)"
   ]
  },
  {
   "cell_type": "code",
   "execution_count": 30,
   "id": "69c55b2e",
   "metadata": {},
   "outputs": [
    {
     "data": {
      "text/plain": [
       "LinearRegression()"
      ]
     },
     "execution_count": 30,
     "metadata": {},
     "output_type": "execute_result"
    }
   ],
   "source": [
    "lr.fit(X_train,y_train)"
   ]
  },
  {
   "cell_type": "code",
   "execution_count": 31,
   "id": "62474a98",
   "metadata": {},
   "outputs": [],
   "source": [
    "predictions = lr.predict(X_test)"
   ]
  },
  {
   "cell_type": "code",
   "execution_count": 32,
   "id": "34e9e725",
   "metadata": {},
   "outputs": [
    {
     "data": {
      "text/plain": [
       "array([1266.80787495, 1365.25710475, 1281.72206446, 1238.53527562,\n",
       "       1173.65975752, 1189.82804299, 1244.60176343, 1461.94737076,\n",
       "       1251.6618396 , 1278.17991589, 1376.11176342, 1328.1573918 ,\n",
       "       1325.37254499, 1204.70913   , 1153.97798523, 1182.26309897,\n",
       "       1331.93582697, 1187.30370376, 1158.02136875, 1387.98423144,\n",
       "       1245.61149912, 1190.08855057, 1291.31455352, 1277.92748196,\n",
       "       1330.93416494, 1229.72067642, 1170.90357246, 1489.21023439,\n",
       "       1029.78493608, 1154.48729383, 1230.20495618, 1241.82499028,\n",
       "       1277.66253362, 1298.13026943, 1140.35906783, 1254.94348059,\n",
       "       1245.09855761, 1342.03318388, 1316.30551186, 1207.48590315,\n",
       "       1351.12887875, 1257.47589348, 1175.4393094 , 1426.6066216 ,\n",
       "       1191.07769818, 1159.54404594, 1084.56309728, 1393.782138  ])"
      ]
     },
     "execution_count": 32,
     "metadata": {},
     "output_type": "execute_result"
    }
   ],
   "source": [
    "predictions"
   ]
  },
  {
   "cell_type": "code",
   "execution_count": 33,
   "id": "d7ece282",
   "metadata": {},
   "outputs": [
    {
     "name": "stdout",
     "output_type": "stream",
     "text": [
      "0.5965631596085778\n"
     ]
    }
   ],
   "source": [
    "print(r2_score(y_test,predictions))   "
   ]
  },
  {
   "cell_type": "code",
   "execution_count": 34,
   "id": "ebba399a",
   "metadata": {},
   "outputs": [],
   "source": [
    "scores=[]\n",
    "for i in range(1000):\n",
    "    X_train,X_test,y_train,y_test=train_test_split(X,y,test_size=0.1,random_state=i)\n",
    "    lr=LinearRegression()\n",
    "    pipe=make_pipeline(column_trans,lr)\n",
    "    pipe.fit(X_train,y_train)\n",
    "    y_pred=pipe.predict(X_test)\n",
    "    scores.append(r2_score(y_test,y_pred))"
   ]
  },
  {
   "cell_type": "code",
   "execution_count": 35,
   "id": "254fbce9",
   "metadata": {},
   "outputs": [
    {
     "data": {
      "text/plain": [
       "234"
      ]
     },
     "execution_count": 35,
     "metadata": {},
     "output_type": "execute_result"
    }
   ],
   "source": [
    "np.argmax(scores)"
   ]
  },
  {
   "cell_type": "code",
   "execution_count": 36,
   "id": "df91f25b",
   "metadata": {},
   "outputs": [
    {
     "data": {
      "text/plain": [
       "0.3098909437488493"
      ]
     },
     "execution_count": 36,
     "metadata": {},
     "output_type": "execute_result"
    }
   ],
   "source": [
    "scores[np.argmax(scores)]"
   ]
  },
  {
   "cell_type": "code",
   "execution_count": 37,
   "id": "567a81fe",
   "metadata": {},
   "outputs": [
    {
     "data": {
      "text/plain": [
       "array([1530.])"
      ]
     },
     "execution_count": 37,
     "metadata": {},
     "output_type": "execute_result"
    }
   ],
   "source": [
    "pipe.predict(pd.DataFrame(columns=X_test.columns,data=np.array([1,1,4512]).reshape(1,3)))"
   ]
  },
  {
   "cell_type": "code",
   "execution_count": null,
   "id": "7983771a",
   "metadata": {},
   "outputs": [],
   "source": []
  }
 ],
 "metadata": {
  "kernelspec": {
   "display_name": "Python 3",
   "language": "python",
   "name": "python3"
  },
  "language_info": {
   "codemirror_mode": {
    "name": "ipython",
    "version": 3
   },
   "file_extension": ".py",
   "mimetype": "text/x-python",
   "name": "python",
   "nbconvert_exporter": "python",
   "pygments_lexer": "ipython3",
   "version": "3.8.8"
  }
 },
 "nbformat": 4,
 "nbformat_minor": 5
}
